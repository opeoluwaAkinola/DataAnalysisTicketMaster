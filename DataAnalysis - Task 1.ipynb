{
 "cells": [
  {
   "cell_type": "markdown",
   "id": "2ea8b1ae",
   "metadata": {},
   "source": [
    "# COMP30760 Assignment 1 Sample - Task 1\n",
    "Name:Opeoluwa Akinola\n",
    "\n",
    "\n",
    "\n",
    "In this we will collect data for upcoming events from the [Ticketmaster Api](https://developer.ticketmaster.com/products-and-docs/apis/discovery-api/v2) in four different countries(USA,Canada,Great Britain,Ireland)\n",
    "\n",
    "This notebook covers <b>Task 1 - Data Collection</b>. Data collected for each country contains 10 pages with raw data of upevent with 199 events as Api limit <200.\n",
    "\n",
    "The API also only supports retrieving the 1000th item. i.e. ( size * page < 1000),so pages after 5 (i.e page 5-9) only has 100 events.Page 10 has size of 99."
   ]
  },
  {
   "cell_type": "code",
   "execution_count": 1,
   "id": "81df8b88",
   "metadata": {},
   "outputs": [],
   "source": [
    "# importing Useful Modules\n",
    "import json, requests, urllib\n",
    "# import http.client\n",
    "from pathlib import Path\n",
    "# from datetime import datetime\n",
    "import pandas as pd\n",
    "import matplotlib\n",
    "import matplotlib.pyplot as plt\n",
    "%matplotlib inline"
   ]
  },
  {
   "cell_type": "markdown",
   "id": "700ff78d",
   "metadata": {},
   "source": [
    "Create directory for raw data storage, if it does not already exist:"
   ]
  },
  {
   "cell_type": "code",
   "execution_count": 2,
   "id": "1bece5a2",
   "metadata": {},
   "outputs": [],
   "source": [
    "# directory for raw data storage\n",
    "dir_raw = Path(\"raw\")\n",
    "# make sure it exists\n",
    "dir_raw.mkdir(parents=True, exist_ok=True)"
   ]
  },
  {
   "cell_type": "code",
   "execution_count": 3,
   "id": "e676b9f0",
   "metadata": {},
   "outputs": [],
   "source": [
    "api_key = \"UTGABvV5q24U9RyoEuGwdRpYtYZDWBcy\"\n",
    "# Prefix for API URLs\n",
    "api_prefix = \"https://app.ticketmaster.com\"\n",
    "#Countries in their country codes i.e (USA-US, Canada-CA,Great Britain-GB,Repblic of Ireland-IE)  \n",
    "Countrycode=[\"US\",\"CA\",\"GB\",\"IE\"]\n",
    "#get request for country codes\n",
    "getrequest=\"countryCode=\"\n",
    "#number of pages for each country\n",
    "pages=10\n",
    "#Sizes according to deep paging limit\n",
    "size=199\n",
    "size2=100"
   ]
  },
  {
   "cell_type": "markdown",
   "id": "fe5559d1",
   "metadata": {},
   "source": [
    "Settings for the API and data collection."
   ]
  },
  {
   "cell_type": "markdown",
   "id": "5b8793f0",
   "metadata": {},
   "source": [
    "# Data Collection\n",
    "I created a function <b>searchevents</b> to search the API for events in selected country and retrieve the data"
   ]
  },
  {
   "cell_type": "code",
   "execution_count": 4,
   "id": "ea62a915",
   "metadata": {},
   "outputs": [],
   "source": [
    "def retrievecountryevents(getrequest,countrycode,pagenum,size):\n",
    "    url=api_prefix\n",
    "    #Convert integers to string format\n",
    "    pg=str(pagenum)\n",
    "    siz_e=str(size)\n",
    "    #Create URl for API format\n",
    "    url+=\"/discovery/v2/events.json?\"+getrequest+countrycode+\"&apikey=\"+api_key+\"&page=\"+pg+\"&size=\"+siz_e\n",
    "    #fetch the page\n",
    "    response = requests.get(url)\n",
    "    print(\"fetching \"+url+\"....\")\n",
    "    jdata = response.text\n",
    "    #return the page\n",
    "    return json.loads(jdata)"
   ]
  },
  {
   "cell_type": "markdown",
   "id": "f4c85c1e",
   "metadata": {},
   "source": [
    "I created a second function <b>savecountryevents</b> to save data to json file"
   ]
  },
  {
   "cell_type": "code",
   "execution_count": 5,
   "id": "fb06c935",
   "metadata": {},
   "outputs": [],
   "source": [
    "def savecountryevents(country):\n",
    "    for page in range(1,pages+1):\n",
    "        #If statement to ensure size*page<1000 when retrieving data from current country and current page.\n",
    "        if page==10:\n",
    "            data=retrievecountryevents(getrequest,country,page,size2-1)\n",
    "        elif page>5:\n",
    "            data=retrievecountryevents(getrequest,country,page,size2)\n",
    "        else:\n",
    "            data=retrievecountryevents(getrequest,country,page,size)\n",
    "        # write it out to our raw dataset directory\n",
    "        fname = \"%s-page%s.json\" % (country, str(page))\n",
    "        out_path = dir_raw / fname\n",
    "        print(\"Writing data to %s\" % out_path)\n",
    "        fout = open(out_path, \"w\")\n",
    "        json.dump(data, fout, indent=4, sort_keys=True)\n",
    "        fout.close()"
   ]
  },
  {
   "cell_type": "markdown",
   "id": "5030291f",
   "metadata": {},
   "source": [
    "Get event data for listed countries"
   ]
  },
  {
   "cell_type": "code",
   "execution_count": 6,
   "id": "907fd020",
   "metadata": {},
   "outputs": [
    {
     "name": "stdout",
     "output_type": "stream",
     "text": [
      "fetching https://app.ticketmaster.com/discovery/v2/events.json?countryCode=US&apikey=UTGABvV5q24U9RyoEuGwdRpYtYZDWBcy&page=1&size=199....\n",
      "Writing data to raw\\US-page1.json\n",
      "fetching https://app.ticketmaster.com/discovery/v2/events.json?countryCode=US&apikey=UTGABvV5q24U9RyoEuGwdRpYtYZDWBcy&page=2&size=199....\n",
      "Writing data to raw\\US-page2.json\n",
      "fetching https://app.ticketmaster.com/discovery/v2/events.json?countryCode=US&apikey=UTGABvV5q24U9RyoEuGwdRpYtYZDWBcy&page=3&size=199....\n",
      "Writing data to raw\\US-page3.json\n",
      "fetching https://app.ticketmaster.com/discovery/v2/events.json?countryCode=US&apikey=UTGABvV5q24U9RyoEuGwdRpYtYZDWBcy&page=4&size=199....\n",
      "Writing data to raw\\US-page4.json\n",
      "fetching https://app.ticketmaster.com/discovery/v2/events.json?countryCode=US&apikey=UTGABvV5q24U9RyoEuGwdRpYtYZDWBcy&page=5&size=199....\n",
      "Writing data to raw\\US-page5.json\n",
      "fetching https://app.ticketmaster.com/discovery/v2/events.json?countryCode=US&apikey=UTGABvV5q24U9RyoEuGwdRpYtYZDWBcy&page=6&size=100....\n",
      "Writing data to raw\\US-page6.json\n",
      "fetching https://app.ticketmaster.com/discovery/v2/events.json?countryCode=US&apikey=UTGABvV5q24U9RyoEuGwdRpYtYZDWBcy&page=7&size=100....\n",
      "Writing data to raw\\US-page7.json\n",
      "fetching https://app.ticketmaster.com/discovery/v2/events.json?countryCode=US&apikey=UTGABvV5q24U9RyoEuGwdRpYtYZDWBcy&page=8&size=100....\n",
      "Writing data to raw\\US-page8.json\n",
      "fetching https://app.ticketmaster.com/discovery/v2/events.json?countryCode=US&apikey=UTGABvV5q24U9RyoEuGwdRpYtYZDWBcy&page=9&size=100....\n",
      "Writing data to raw\\US-page9.json\n",
      "fetching https://app.ticketmaster.com/discovery/v2/events.json?countryCode=US&apikey=UTGABvV5q24U9RyoEuGwdRpYtYZDWBcy&page=10&size=99....\n",
      "Writing data to raw\\US-page10.json\n",
      "fetching https://app.ticketmaster.com/discovery/v2/events.json?countryCode=CA&apikey=UTGABvV5q24U9RyoEuGwdRpYtYZDWBcy&page=1&size=199....\n",
      "Writing data to raw\\CA-page1.json\n",
      "fetching https://app.ticketmaster.com/discovery/v2/events.json?countryCode=CA&apikey=UTGABvV5q24U9RyoEuGwdRpYtYZDWBcy&page=2&size=199....\n",
      "Writing data to raw\\CA-page2.json\n",
      "fetching https://app.ticketmaster.com/discovery/v2/events.json?countryCode=CA&apikey=UTGABvV5q24U9RyoEuGwdRpYtYZDWBcy&page=3&size=199....\n",
      "Writing data to raw\\CA-page3.json\n",
      "fetching https://app.ticketmaster.com/discovery/v2/events.json?countryCode=CA&apikey=UTGABvV5q24U9RyoEuGwdRpYtYZDWBcy&page=4&size=199....\n",
      "Writing data to raw\\CA-page4.json\n",
      "fetching https://app.ticketmaster.com/discovery/v2/events.json?countryCode=CA&apikey=UTGABvV5q24U9RyoEuGwdRpYtYZDWBcy&page=5&size=199....\n",
      "Writing data to raw\\CA-page5.json\n",
      "fetching https://app.ticketmaster.com/discovery/v2/events.json?countryCode=CA&apikey=UTGABvV5q24U9RyoEuGwdRpYtYZDWBcy&page=6&size=100....\n",
      "Writing data to raw\\CA-page6.json\n",
      "fetching https://app.ticketmaster.com/discovery/v2/events.json?countryCode=CA&apikey=UTGABvV5q24U9RyoEuGwdRpYtYZDWBcy&page=7&size=100....\n",
      "Writing data to raw\\CA-page7.json\n",
      "fetching https://app.ticketmaster.com/discovery/v2/events.json?countryCode=CA&apikey=UTGABvV5q24U9RyoEuGwdRpYtYZDWBcy&page=8&size=100....\n",
      "Writing data to raw\\CA-page8.json\n",
      "fetching https://app.ticketmaster.com/discovery/v2/events.json?countryCode=CA&apikey=UTGABvV5q24U9RyoEuGwdRpYtYZDWBcy&page=9&size=100....\n",
      "Writing data to raw\\CA-page9.json\n",
      "fetching https://app.ticketmaster.com/discovery/v2/events.json?countryCode=CA&apikey=UTGABvV5q24U9RyoEuGwdRpYtYZDWBcy&page=10&size=99....\n",
      "Writing data to raw\\CA-page10.json\n",
      "fetching https://app.ticketmaster.com/discovery/v2/events.json?countryCode=GB&apikey=UTGABvV5q24U9RyoEuGwdRpYtYZDWBcy&page=1&size=199....\n",
      "Writing data to raw\\GB-page1.json\n",
      "fetching https://app.ticketmaster.com/discovery/v2/events.json?countryCode=GB&apikey=UTGABvV5q24U9RyoEuGwdRpYtYZDWBcy&page=2&size=199....\n",
      "Writing data to raw\\GB-page2.json\n",
      "fetching https://app.ticketmaster.com/discovery/v2/events.json?countryCode=GB&apikey=UTGABvV5q24U9RyoEuGwdRpYtYZDWBcy&page=3&size=199....\n",
      "Writing data to raw\\GB-page3.json\n",
      "fetching https://app.ticketmaster.com/discovery/v2/events.json?countryCode=GB&apikey=UTGABvV5q24U9RyoEuGwdRpYtYZDWBcy&page=4&size=199....\n",
      "Writing data to raw\\GB-page4.json\n",
      "fetching https://app.ticketmaster.com/discovery/v2/events.json?countryCode=GB&apikey=UTGABvV5q24U9RyoEuGwdRpYtYZDWBcy&page=5&size=199....\n",
      "Writing data to raw\\GB-page5.json\n",
      "fetching https://app.ticketmaster.com/discovery/v2/events.json?countryCode=GB&apikey=UTGABvV5q24U9RyoEuGwdRpYtYZDWBcy&page=6&size=100....\n",
      "Writing data to raw\\GB-page6.json\n",
      "fetching https://app.ticketmaster.com/discovery/v2/events.json?countryCode=GB&apikey=UTGABvV5q24U9RyoEuGwdRpYtYZDWBcy&page=7&size=100....\n",
      "Writing data to raw\\GB-page7.json\n",
      "fetching https://app.ticketmaster.com/discovery/v2/events.json?countryCode=GB&apikey=UTGABvV5q24U9RyoEuGwdRpYtYZDWBcy&page=8&size=100....\n",
      "Writing data to raw\\GB-page8.json\n",
      "fetching https://app.ticketmaster.com/discovery/v2/events.json?countryCode=GB&apikey=UTGABvV5q24U9RyoEuGwdRpYtYZDWBcy&page=9&size=100....\n",
      "Writing data to raw\\GB-page9.json\n",
      "fetching https://app.ticketmaster.com/discovery/v2/events.json?countryCode=GB&apikey=UTGABvV5q24U9RyoEuGwdRpYtYZDWBcy&page=10&size=99....\n",
      "Writing data to raw\\GB-page10.json\n",
      "fetching https://app.ticketmaster.com/discovery/v2/events.json?countryCode=IE&apikey=UTGABvV5q24U9RyoEuGwdRpYtYZDWBcy&page=1&size=199....\n",
      "Writing data to raw\\IE-page1.json\n",
      "fetching https://app.ticketmaster.com/discovery/v2/events.json?countryCode=IE&apikey=UTGABvV5q24U9RyoEuGwdRpYtYZDWBcy&page=2&size=199....\n",
      "Writing data to raw\\IE-page2.json\n",
      "fetching https://app.ticketmaster.com/discovery/v2/events.json?countryCode=IE&apikey=UTGABvV5q24U9RyoEuGwdRpYtYZDWBcy&page=3&size=199....\n",
      "Writing data to raw\\IE-page3.json\n",
      "fetching https://app.ticketmaster.com/discovery/v2/events.json?countryCode=IE&apikey=UTGABvV5q24U9RyoEuGwdRpYtYZDWBcy&page=4&size=199....\n",
      "Writing data to raw\\IE-page4.json\n",
      "fetching https://app.ticketmaster.com/discovery/v2/events.json?countryCode=IE&apikey=UTGABvV5q24U9RyoEuGwdRpYtYZDWBcy&page=5&size=199....\n",
      "Writing data to raw\\IE-page5.json\n",
      "fetching https://app.ticketmaster.com/discovery/v2/events.json?countryCode=IE&apikey=UTGABvV5q24U9RyoEuGwdRpYtYZDWBcy&page=6&size=100....\n",
      "Writing data to raw\\IE-page6.json\n",
      "fetching https://app.ticketmaster.com/discovery/v2/events.json?countryCode=IE&apikey=UTGABvV5q24U9RyoEuGwdRpYtYZDWBcy&page=7&size=100....\n",
      "Writing data to raw\\IE-page7.json\n",
      "fetching https://app.ticketmaster.com/discovery/v2/events.json?countryCode=IE&apikey=UTGABvV5q24U9RyoEuGwdRpYtYZDWBcy&page=8&size=100....\n",
      "Writing data to raw\\IE-page8.json\n",
      "fetching https://app.ticketmaster.com/discovery/v2/events.json?countryCode=IE&apikey=UTGABvV5q24U9RyoEuGwdRpYtYZDWBcy&page=9&size=100....\n",
      "Writing data to raw\\IE-page9.json\n",
      "fetching https://app.ticketmaster.com/discovery/v2/events.json?countryCode=IE&apikey=UTGABvV5q24U9RyoEuGwdRpYtYZDWBcy&page=10&size=99....\n",
      "Writing data to raw\\IE-page10.json\n"
     ]
    }
   ],
   "source": [
    "for country in Countrycode:\n",
    "    savecountryevents(country)"
   ]
  }
 ],
 "metadata": {
  "kernelspec": {
   "display_name": "Python 3.10.5 64-bit",
   "language": "python",
   "name": "python3"
  },
  "language_info": {
   "codemirror_mode": {
    "name": "ipython",
    "version": 3
   },
   "file_extension": ".py",
   "mimetype": "text/x-python",
   "name": "python",
   "nbconvert_exporter": "python",
   "pygments_lexer": "ipython3",
   "version": "3.10.5"
  },
  "vscode": {
   "interpreter": {
    "hash": "a17a5b2e5cc955572ec7b06729992ac8597ff519274f4d94f9e56fcaddb256c5"
   }
  }
 },
 "nbformat": 4,
 "nbformat_minor": 5
}
